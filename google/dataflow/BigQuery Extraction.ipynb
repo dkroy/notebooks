{
 "cells": [
  {
   "cell_type": "code",
   "execution_count": 3,
   "metadata": {
    "collapsed": false
   },
   "outputs": [],
   "source": [
    "import apache_beam as beam"
   ]
  },
  {
   "cell_type": "code",
   "execution_count": 5,
   "metadata": {
    "collapsed": true
   },
   "outputs": [],
   "source": [
    "project = 'djsyndicationhub-prod'\n",
    "input_query = 'SELECT an FROM DnaArchive_20161028.events201501 LIMIT 1000'"
   ]
  },
  {
   "cell_type": "code",
   "execution_count": 6,
   "metadata": {
    "collapsed": false
   },
   "outputs": [
    {
     "data": {
      "text/plain": [
       "{u'an': <avro.schema.Field at 0x105ce81d0>}"
      ]
     },
     "execution_count": 6,
     "metadata": {},
     "output_type": "execute_result"
    }
   ],
   "source": [
    "import avro.schema\n",
    "\n",
    "file_path_prefix='gs://dj-syndicationhub-prod-tmp/data/part'\n",
    "schema = avro.schema.parse(open(\"Article.avsc\").read())\n",
    "file_name_suffix = '.avro'\n",
    "num_shards=2\n",
    "schema.fields_dict"
   ]
  },
  {
   "cell_type": "code",
   "execution_count": 7,
   "metadata": {
    "collapsed": false
   },
   "outputs": [],
   "source": [
    "p = beam.Pipeline(argv=['--project', project])\n",
    "(p\n",
    " | 'read' >> beam.Read(beam.io.BigQuerySource(query=input_query))\n",
    " | 'save' >> beam.Write(beam.io.avroio.WriteToAvro(file_path_prefix, schema, file_name_suffix=file_name_suffix)))"
   ]
  },
  {
   "cell_type": "code",
   "execution_count": 8,
   "metadata": {
    "collapsed": false
   },
   "outputs": [],
   "source": [
    "# p.run()"
   ]
  },
  {
   "cell_type": "code",
   "execution_count": 9,
   "metadata": {
    "collapsed": false
   },
   "outputs": [],
   "source": [
    "from apache_beam.utils.options import PipelineOptions, GoogleCloudOptions, StandardOptions\n",
    "\n",
    "# Create and set your PipelineOptions.\n",
    "options = PipelineOptions() # flags=['--project', project])\n",
    "\n",
    "# For Cloud execution, set the Cloud Platform project, job_name,\n",
    "# staging location, temp_location and specify DataflowPipelineRunner or\n",
    "# BlockingDataflowPipelineRunner.\n",
    "google_cloud_options = options.view_as(GoogleCloudOptions)\n",
    "google_cloud_options.job_name = 'dj-test-python-extraction-dylan'\n",
    "google_cloud_options.project = project\n",
    "google_cloud_options.staging_location = 'gs://dj-syndicationhub-prod-tmp/royd/staging'\n",
    "google_cloud_options.temp_location = 'gs://dj-syndicationhub-prod-tmp/royd/tmp'\n",
    "#options.view_as(StandardOptions).runner = 'DataflowPipelineRunner'\n",
    "options.view_as(StandardOptions).runner = 'DirectPipelineRunner'\n",
    "\n",
    "p = beam.Pipeline(options=options)\n",
    "(p\n",
    " | 'read' >> beam.Read(beam.io.BigQuerySource(query=input_query))\n",
    " | 'save' >> beam.Write(beam.io.avroio.WriteToAvro(file_path_prefix, schema, file_name_suffix=file_name_suffix)))"
   ]
  },
  {
   "cell_type": "code",
   "execution_count": 11,
   "metadata": {
    "collapsed": false
   },
   "outputs": [
    {
     "data": {
      "text/plain": [
       "<DataflowPipelineResult <Job\n",
       " id: u'2016-12-05_13_14_05-3769326485044220600'\n",
       " projectId: u'djsyndicationhub-prod'\n",
       " steps: []\n",
       " tempFiles: []\n",
       " type: TypeValueValuesEnum(JOB_TYPE_BATCH, 1)> at 0x106217250>"
      ]
     },
     "execution_count": 11,
     "metadata": {},
     "output_type": "execute_result"
    }
   ],
   "source": [
    "p.run()"
   ]
  },
  {
   "cell_type": "code",
   "execution_count": null,
   "metadata": {
    "collapsed": true
   },
   "outputs": [],
   "source": [
    "import apache_beam as beam\n",
    "from apache_beam.utils.options import PipelineOptions, GoogleCloudOptions, StandardOptions\n",
    "import avro.schema\n",
    "\n",
    "project = 'djsyndicationhub-prod'\n",
    "input_query = 'SELECT an FROM DnaArchive_20161028.events201501 LIMIT 1000'\n",
    "#file_path_prefix='gs://dj-syndicationhub-prod-tmp/data/part'\n",
    "file_path_prefix = ''\n",
    "schema = avro.schema.parse(open(\"Article.avsc\").read())\n",
    "file_name_suffix = '.avro'\n",
    "num_shards=2\n",
    "schema.fields_dict\n",
    "\n",
    "# Create and set your PipelineOptions.\n",
    "options = PipelineOptions() # flags=['--project', project])\n",
    "\n",
    "# For Cloud execution, set the Cloud Platform project, job_name,\n",
    "# staging location, temp_location and specify DataflowPipelineRunner or\n",
    "# BlockingDataflowPipelineRunner.\n",
    "google_cloud_options = options.view_as(GoogleCloudOptions)\n",
    "google_cloud_options.job_name = 'dj-test-python-extraction-dylan'\n",
    "google_cloud_options.project = project\n",
    "google_cloud_options.staging_location = 'gs://dj-syndicationhub-prod-tmp/royd/staging'\n",
    "google_cloud_options.temp_location = 'gs://dj-syndicationhub-prod-tmp/royd/tmp'\n",
    "#options.view_as(StandardOptions).runner = 'DataflowPipelineRunner'\n",
    "options.view_as(StandardOptions).runner = 'DirectPipelineRunner'\n",
    "\n",
    "p = beam.Pipeline(options=options)\n",
    "(p\n",
    " | 'read' >> beam.Read(beam.io.BigQuerySource(query=input_query))\n",
    " | 'save' >> beam.Write(beam.io.avroio.WriteToAvro(file_path_prefix, schema, file_name_suffix=file_name_suffix)))"
   ]
  }
 ],
 "metadata": {
  "kernelspec": {
   "display_name": "Python 2",
   "language": "python",
   "name": "python2"
  },
  "language_info": {
   "codemirror_mode": {
    "name": "ipython",
    "version": 2
   },
   "file_extension": ".py",
   "mimetype": "text/x-python",
   "name": "python",
   "nbconvert_exporter": "python",
   "pygments_lexer": "ipython2",
   "version": "2.7.10"
  }
 },
 "nbformat": 4,
 "nbformat_minor": 1
}
