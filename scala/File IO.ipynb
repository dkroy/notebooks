{
 "cells": [
  {
   "cell_type": "code",
   "execution_count": 1,
   "metadata": {
    "collapsed": false
   },
   "outputs": [
    {
     "data": {
      "text/plain": [
       "\u001b[32mimport \u001b[36mscala.io.Source\u001b[0m"
      ]
     },
     "metadata": {},
     "output_type": "display_data"
    }
   ],
   "source": [
    "import scala.io.Source"
   ]
  },
  {
   "cell_type": "code",
   "execution_count": 9,
   "metadata": {
    "collapsed": false
   },
   "outputs": [
    {
     "data": {
      "text/plain": [
       "\u001b[36mfilename\u001b[0m: \u001b[32mString\u001b[0m = \u001b[32m\"File IO.ipynb\"\u001b[0m"
      ]
     },
     "metadata": {},
     "output_type": "display_data"
    }
   ],
   "source": [
    "val filename = \"File IO.ipynb\""
   ]
  },
  {
   "cell_type": "code",
   "execution_count": 10,
   "metadata": {
    "collapsed": false
   },
   "outputs": [
    {
     "name": "stdout",
     "output_type": "stream",
     "text": [
      "{\n",
      " \"cells\": [\n",
      "  {\n",
      "   \"cell_type\": \"code\",\n",
      "   \"execution_count\": 1,\n",
      "   \"metadata\": {\n",
      "    \"collapsed\": false\n",
      "   },\n",
      "   \"outputs\": [\n",
      "    {\n",
      "     \"data\": {\n",
      "      \"text/plain\": [\n",
      "       \"\\u001b[32mimport \\u001b[36mscala.io.Source\\u001b[0m\"\n",
      "      ]\n",
      "     },\n",
      "     \"metadata\": {},\n",
      "     \"output_type\": \"display_data\"\n",
      "    }\n",
      "   ],\n",
      "   \"source\": [\n",
      "    \"import scala.io.Source\"\n",
      "   ]\n",
      "  },\n",
      "  {\n",
      "   \"cell_type\": \"code\",\n",
      "   \"execution_count\": 4,\n",
      "   \"metadata\": {\n",
      "    \"collapsed\": false\n",
      "   },\n",
      "   \"outputs\": [\n",
      "    {\n",
      "     \"data\": {\n",
      "      \"text/plain\": [\n",
      "       \"\\u001b[36mfilename\\u001b[0m: \\u001b[32mString\\u001b[0m = \\u001b[32m\\\"Untitled.ipynb\\\"\\u001b[0m\"\n",
      "      ]\n",
      "     },\n",
      "     \"metadata\": {},\n",
      "     \"output_type\": \"display_data\"\n",
      "    }\n",
      "   ],\n",
      "   \"source\": [\n",
      "    \"val filename = \\\"Untitled.ipynb\\\"\"\n",
      "   ]\n",
      "  },\n",
      "  {\n",
      "   \"cell_type\": \"code\",\n",
      "   \"execution_count\": 5,\n",
      "   \"metadata\": {\n",
      "    \"collapsed\": false\n",
      "   },\n",
      "   \"outputs\": [\n",
      "    {\n",
      "     \"ename\": \"\",\n",
      "     \"evalue\": \"\",\n",
      "     \"output_type\": \"error\",\n",
      "     \"traceback\": [\n",
      "      \"java.io.FileNotFoundException: Untitled.ipynb (No such file or directory)\",\n",
      "      \"\\tjava.io.FileInputStream.open0(Native Method)\",\n",
      "      \"\\tjava.io.FileInputStream.open(FileInputStream.java:195)\",\n",
      "      \"\\tjava.io.FileInputStream.<init>(FileInputStream.java:138)\",\n",
      "      \"\\tscala.io.Source$.fromFile(Source.scala:91)\",\n",
      "      \"\\tscala.io.Source$.fromFile(Source.scala:76)\",\n",
      "      \"\\tscala.io.Source$.fromFile(Source.scala:54)\",\n",
      "      \"\\tcmd4$$user$$anonfun$1.apply$mcV$sp(Main.scala:55)\"\n",
      "     ]\n",
      "    }\n",
      "   ],\n",
      "   \"source\": [\n",
      "    \"for (line <- Source.fromFile(filename).getLines()){\\n\",\n",
      "    \"    println(line)\\n\",\n",
      "    \"}\"\n",
      "   ]\n",
      "  },\n",
      "  {\n",
      "   \"cell_type\": \"code\",\n",
      "   \"execution_count\": null,\n",
      "   \"metadata\": {\n",
      "    \"collapsed\": true\n",
      "   },\n",
      "   \"outputs\": [],\n",
      "   \"source\": []\n",
      "  }\n",
      " ],\n",
      " \"metadata\": {\n",
      "  \"kernelspec\": {\n",
      "   \"display_name\": \"Scala 2.11\",\n",
      "   \"language\": \"scala211\",\n",
      "   \"name\": \"scala211\"\n",
      "  },\n",
      "  \"language_info\": {\n",
      "   \"codemirror_mode\": \"text/x-scala\",\n",
      "   \"file_extension\": \".scala\",\n",
      "   \"mimetype\": \"text/x-scala\",\n",
      "   \"name\": \"scala211\",\n",
      "   \"pygments_lexer\": \"scala\",\n",
      "   \"version\": \"2.11.6\"\n",
      "  }\n",
      " },\n",
      " \"nbformat\": 4,\n",
      " \"nbformat_minor\": 2\n",
      "}\n"
     ]
    },
    {
     "data": {
      "text/plain": []
     },
     "metadata": {},
     "output_type": "display_data"
    }
   ],
   "source": [
    "for (line <- Source.fromFile(filename).getLines()){\n",
    "    println(line)\n",
    "}"
   ]
  },
  {
   "cell_type": "code",
   "execution_count": 11,
   "metadata": {
    "collapsed": false
   },
   "outputs": [
    {
     "data": {
      "text/plain": [
       "\u001b[32mimport \u001b[36mjava.io.File\u001b[0m"
      ]
     },
     "metadata": {},
     "output_type": "display_data"
    }
   ],
   "source": [
    "import java.io.File"
   ]
  },
  {
   "cell_type": "code",
   "execution_count": 13,
   "metadata": {
    "collapsed": false
   },
   "outputs": [
    {
     "data": {
      "text/plain": [
       "defined \u001b[32mfunction \u001b[36mgetListOfFiles\u001b[0m\n",
       "\u001b[36mfiles\u001b[0m: \u001b[32mList\u001b[0m[\u001b[32mFile\u001b[0m] = \u001b[33mList\u001b[0m(./data.json, ./File IO.ipynb, ./README.md)"
      ]
     },
     "metadata": {},
     "output_type": "display_data"
    }
   ],
   "source": [
    "def getListOfFiles(dir: String):List[File] = {\n",
    "  val d = new File(dir)\n",
    "  if (d.exists && d.isDirectory) {\n",
    "    d.listFiles.filter(_.isFile).toList\n",
    "  } else {\n",
    "    List[File]()\n",
    "  }\n",
    "}\n",
    "\n",
    "val files = getListOfFiles(\".\")"
   ]
  },
  {
   "cell_type": "code",
   "execution_count": null,
   "metadata": {
    "collapsed": false
   },
   "outputs": [],
   "source": []
  },
  {
   "cell_type": "code",
   "execution_count": null,
   "metadata": {
    "collapsed": true
   },
   "outputs": [],
   "source": []
  }
 ],
 "metadata": {
  "kernelspec": {
   "display_name": "Scala 2.11",
   "language": "scala211",
   "name": "scala211"
  },
  "language_info": {
   "codemirror_mode": "text/x-scala",
   "file_extension": ".scala",
   "mimetype": "text/x-scala",
   "name": "scala211",
   "pygments_lexer": "scala",
   "version": "2.11.6"
  }
 },
 "nbformat": 4,
 "nbformat_minor": 2
}
